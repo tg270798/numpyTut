{
 "cells": [
  {
   "cell_type": "code",
   "execution_count": 48,
   "metadata": {},
   "outputs": [],
   "source": [
    "import numpy as np"
   ]
  },
  {
   "cell_type": "code",
   "execution_count": 8,
   "metadata": {},
   "outputs": [
    {
     "name": "stdout",
     "output_type": "stream",
     "text": [
      "9 8 7 \n",
      "\n",
      "6 5 4 \n",
      "\n",
      "1 2 3 \n",
      "\n"
     ]
    }
   ],
   "source": [
    "arr = np.array([[9,8,7],[6,5,4],[1,2,3]])\n",
    "for x in range(0,len(arr)):\n",
    "    for y in range(0,len(arr[x])):\n",
    "        print(arr[x][y],end=\" \")\n",
    "    print(\"\\n\")\n",
    "\n",
    "# print(arr[0][1])"
   ]
  },
  {
   "cell_type": "code",
   "execution_count": 4,
   "metadata": {},
   "outputs": [
    {
     "name": "stdout",
     "output_type": "stream",
     "text": [
      "[3 5 7]\n"
     ]
    }
   ],
   "source": [
    "arr1 = np.array([[0,1,2],[3,4,5]])\n",
    "# arrsum = np.sum(arr1,axis = 1)\n",
    "arrsum = np.sum(arr1,axis = 0)\n",
    "\n",
    "print(arrsum)"
   ]
  },
  {
   "cell_type": "code",
   "execution_count": 27,
   "metadata": {},
   "outputs": [
    {
     "data": {
      "text/plain": [
       "array([[0, 0, 0],\n",
       "       [0, 0, 0],\n",
       "       [0, 0, 0],\n",
       "       [0, 0, 0]])"
      ]
     },
     "execution_count": 27,
     "metadata": {},
     "output_type": "execute_result"
    }
   ],
   "source": [
    "np.zeros((4,3),dtype=int)\n"
   ]
  },
  {
   "cell_type": "code",
   "execution_count": 34,
   "metadata": {},
   "outputs": [
    {
     "data": {
      "text/plain": [
       "array([2.  , 2.75, 3.5 , 4.25, 5.  , 5.75, 6.5 , 7.25, 8.  , 8.75, 9.5 ])"
      ]
     },
     "execution_count": 34,
     "metadata": {},
     "output_type": "execute_result"
    }
   ],
   "source": [
    "np.arange(2,10,0.75,dtype=float)"
   ]
  },
  {
   "cell_type": "code",
   "execution_count": 40,
   "metadata": {},
   "outputs": [
    {
     "data": {
      "text/plain": [
       "array([2, 2, 3, 4, 5, 6, 6, 7, 8, 9])"
      ]
     },
     "execution_count": 40,
     "metadata": {},
     "output_type": "execute_result"
    }
   ],
   "source": [
    "np.linspace(2,10,num=10,endpoint=False,dtype=int)"
   ]
  },
  {
   "cell_type": "markdown",
   "metadata": {},
   "source": [
    "## different sorting techniques in numpy\n",
    "* **sort**\n",
    "    * sort will sort the array \n",
    "    numpy.sort(arr, axis = -1, kind = None, order = None)\n",
    "        * arr - array to be sorted\n",
    "        * axis - int or none. By default its -1\n",
    "        * kind - 'quicksort', 'mergesort', 'stable', 'heapsort'\n",
    "        * order will sort according to the given fields\n",
    "* **argsort**\n",
    "    * returns an array/list of position of elements which are in sorted order\n",
    "* **searchsorted**\n",
    "    * numpy.searchsorted(a,v, side = 'left', sorter= None) \n",
    "        * a - input array\n",
    "        * v - Values to insert into a\n",
    "        * side - 'left','right' if left first index of element will be returned else last index will be returned\n",
    "        * sorter - Optional array of integer indices that sort array a into ascending order. They are typically the result of argsort.\n",
    "    * find indices where elements should be inserted to maintain order returns int or array of integers. Returns 0 or N if element is not found\n"
   ]
  },
  {
   "cell_type": "code",
   "execution_count": 35,
   "metadata": {},
   "outputs": [
    {
     "data": {
      "text/plain": [
       "array([(b'Galahad', 1.7, 38), (b'Lancelot', 1.9, 38),\n",
       "       (b'Arthur', 1.8, 41)],\n",
       "      dtype=[('name', 'S10'), ('height', '<f8'), ('age', '<i4')])"
      ]
     },
     "execution_count": 35,
     "metadata": {},
     "output_type": "execute_result"
    }
   ],
   "source": [
    "# arrsort = [9,1,7,3,5]\n",
    "# arrsort2d = [[9,8,7],[6,5,4],[3,2,1]]\n",
    "# arrsort = np.sort(np.sort(arrsort2d), axis = 0)\n",
    "# # arrsort = np.argsort(arrsort)\n",
    "# print(arrsort)\n",
    "\n",
    "\n",
    "dtype = [('name', 'S10'), ('height', float), ('age', int)]\n",
    "values = [('Arthur', 1.8, 41), ('Lancelot', 1.9, 38),('Galahad', 1.7, 38)]\n",
    "a = np.array(values, dtype=dtype)\n",
    "np.sort(a, order=['age', 'height'])                         \n"
   ]
  },
  {
   "cell_type": "code",
   "execution_count": 38,
   "metadata": {},
   "outputs": [
    {
     "data": {
      "text/plain": [
       "0"
      ]
     },
     "execution_count": 38,
     "metadata": {},
     "output_type": "execute_result"
    }
   ],
   "source": [
    "np.searchsorted(arrsum,0)"
   ]
  },
  {
   "cell_type": "code",
   "execution_count": 51,
   "metadata": {},
   "outputs": [
    {
     "data": {
      "text/plain": [
       "array([[1, 2],\n",
       "       [3, 4],\n",
       "       [5, 6],\n",
       "       [7, 8]])"
      ]
     },
     "execution_count": 51,
     "metadata": {},
     "output_type": "execute_result"
    }
   ],
   "source": [
    "ar1 = np.array([[1,2],[3,4]])\n",
    "ar2 = np.array([[5,6],[7,8]])\n",
    "np.concatenate((ar1,ar2),axis = 0)"
   ]
  },
  {
   "cell_type": "markdown",
   "metadata": {},
   "source": [
    "## Determining the shape and size of an array\n",
    "    *ndarray.ndim - returns the number of axes/dimensions in the array\n",
    "    *ndarray.size - returns the number of elements in the array\n",
    "    *ndarray.shape - returns a tuple indicating number of rows and columns in the array"
   ]
  },
  {
   "cell_type": "code",
   "execution_count": 57,
   "metadata": {},
   "outputs": [
    {
     "name": "stdout",
     "output_type": "stream",
     "text": [
      "2\n",
      "4\n",
      "(2, 2)\n"
     ]
    }
   ],
   "source": [
    "print(ar1.ndim)\n",
    "print(ar1.size)\n",
    "print(ar1.shape)"
   ]
  },
  {
   "cell_type": "markdown",
   "metadata": {},
   "source": [
    "### reshape an array\n",
    "\n",
    "* np.reshape(a,newshape = (),order = 'F/A/C')\n",
    "    * a - array to be sorted\n",
    "    * newshape = (rows,columns)\n",
    "    "
   ]
  },
  {
   "cell_type": "code",
   "execution_count": 58,
   "metadata": {},
   "outputs": [
    {
     "data": {
      "text/plain": [
       "array([[0, 1],\n",
       "       [2, 3],\n",
       "       [4, 5]])"
      ]
     },
     "execution_count": 58,
     "metadata": {},
     "output_type": "execute_result"
    }
   ],
   "source": [
    "np.reshape(arr1,newshape=(3,2))"
   ]
  },
  {
   "cell_type": "code",
   "execution_count": 65,
   "metadata": {},
   "outputs": [
    {
     "name": "stdout",
     "output_type": "stream",
     "text": [
      "[[1 2 3 4 5]]\n",
      "[[1]\n",
      " [2]\n",
      " [3]\n",
      " [4]\n",
      " [5]]\n",
      "(1, 5)\n"
     ]
    }
   ],
   "source": [
    "xarr = np.arange(1,6)\n",
    "xarr1 = xarr[np.newaxis, :]\n",
    "xarr2 = np.expand_dims(xarr,axis = 1)\n",
    "print(xarr1)\n",
    "print(xarr2)\n",
    "print(xarr1.shape)"
   ]
  },
  {
   "cell_type": "code",
   "execution_count": 77,
   "metadata": {},
   "outputs": [
    {
     "name": "stdout",
     "output_type": "stream",
     "text": [
      "[2 3 4 5]\n"
     ]
    }
   ],
   "source": [
    "print(xarr[-4:6])"
   ]
  },
  {
   "cell_type": "code",
   "execution_count": 82,
   "metadata": {},
   "outputs": [
    {
     "data": {
      "text/plain": [
       "array([[7, 8, 9],\n",
       "       [4, 5, 6],\n",
       "       [3, 2, 1]])"
      ]
     },
     "execution_count": 82,
     "metadata": {},
     "output_type": "execute_result"
    }
   ],
   "source": [
    "np.flip(arr,axis = 1)"
   ]
  },
  {
   "cell_type": "code",
   "execution_count": 79,
   "metadata": {},
   "outputs": [
    {
     "name": "stdout",
     "output_type": "stream",
     "text": [
      "[0 1 2 3 4 5]\n",
      "[0 1 2 3 4 5]\n"
     ]
    }
   ],
   "source": [
    "z = arr1.flatten()\n",
    "zravel = arr1.ravel()\n",
    "print(z)\n",
    "print(zravel)\n",
    "np.array"
   ]
  }
 ],
 "metadata": {
  "interpreter": {
   "hash": "51d3b0cb6c6ee5270033a38ee7923c2116632e726c97c1a2d1a8160a4e1e5887"
  },
  "kernelspec": {
   "display_name": "Python 3.8.5 32-bit",
   "language": "python",
   "name": "python3"
  },
  "language_info": {
   "codemirror_mode": {
    "name": "ipython",
    "version": 3
   },
   "file_extension": ".py",
   "mimetype": "text/x-python",
   "name": "python",
   "nbconvert_exporter": "python",
   "pygments_lexer": "ipython3",
   "version": "3.8.5"
  },
  "orig_nbformat": 4
 },
 "nbformat": 4,
 "nbformat_minor": 2
}
